{
 "cells": [
  {
   "cell_type": "markdown",
   "metadata": {},
   "source": [
    "## Import some useful libraries"
   ]
  },
  {
   "cell_type": "code",
   "execution_count": 1,
   "metadata": {},
   "outputs": [],
   "source": [
    "# import number crunching libraries\n",
    "import numpy as np\n",
    "import pandas as pd\n",
    "from IPython.display import display, Markdown, Latex\n",
    "\n",
    "# import plotting libraries\n",
    "import matplotlib.pyplot as plt\n",
    "from matplotlib.ticker import PercentFormatter\n",
    "import seaborn as sns\n",
    "\n",
    "#don't truncate results\n",
    "pd.set_option('display.max_rows', None)\n"
   ]
  },
  {
   "cell_type": "markdown",
   "metadata": {},
   "source": [
    "## Load the data\n"
   ]
  },
  {
   "cell_type": "code",
   "execution_count": 2,
   "metadata": {},
   "outputs": [],
   "source": [
    "df = pd.read_csv('responses_complete.csv', index_col=None, parse_dates=['date'])\n"
   ]
  },
  {
   "cell_type": "markdown",
   "metadata": {},
   "source": [
    "## Compile a list of questions and answer options"
   ]
  },
  {
   "cell_type": "code",
   "execution_count": 3,
   "metadata": {},
   "outputs": [],
   "source": [
    "# a dictionary of columns that contain comma-separated multiple answer options\n",
    "multiple_answer_options = {\n",
    "    'schools': ['CET', 'PVC', 'CHHS', 'Homeschooled'],\n",
    "    'child_drive_reason': ['No - we do not drive, or prefer not to drive', 'Our own personal preference', 'Lack of available busing where we live', 'The bus schedule does not match our schedule', 'Safety concerns with buses', 'Safety concerns with walking', 'Safety concerns with bicycling', \"My child's health condition\"],\n",
    "    'child_no_walk_reason': ['No - they walk a lot', 'My child does not like to walk', 'We live too far to walk', \"We don't have time to walk\", 'Fear of dangerous driving', 'Lack of adequate sidewalks', 'Lack of adequate crosswalks at busy intersections', 'Lack of crossing guards at busy intersections', \"My child's health condition\", 'Visually unappealing route'],\n",
    "    'child_no_bike_reason': ['No - they bicycle a lot', 'My child does not like to bicycle', 'My child is too young to bicycle', 'We live too far to bicycle', 'Our own personal preference', 'Fear of dangerous driving', 'Lack of adequate bike lanes', \"My child's health condition\", 'Visually unappealing route', 'Hills'],\n",
    "    'no_walk_reason': ['No - I walk a lot', 'I live too far to walk', 'I do not like to walk', \"I don't have time to walk\", 'Fear of dangerous driving', 'Lack of adequate sidewalks', 'Lack of adequate crosswalks at intersections', 'Lack of crossing guards at intersections', \"My health condition\", 'My own personal preference', 'Visually unappealing'], \n",
    "    'no_bike_reason': ['No - I bicycle a lot', 'I live too far to bicycle', 'I do not like to bicycle', \"I don't have time to bicycle\", 'Fear of dangerous driving', 'Lack of adequate bike lanes', 'My health condition', 'My own personal preference', 'Visually unappealing'],\n",
    "    'drive_reason': ['No - I do not drive, or prefer not to drive', \"I don't have time to walk or bicycle\", 'Safety concerns with walking', 'Safety concerns with bicycling', 'My own health condition', 'My own personal preference'],\n",
    "    'commuter_distance': ['Within Croton', 'Within Westchester', 'To/from New York City'],\n",
    "}\n",
    "\n",
    "# remember that there was also an 'other' field where users could enter custom answers... we'll deal with that later.\n"
   ]
  },
  {
   "cell_type": "code",
   "execution_count": 4,
   "metadata": {},
   "outputs": [],
   "source": [
    "#add the most popular complaint tags to the dictionary of questions and their answer options\n",
    "multiple_answer_options['problem_tags'] = [ 'speeding', 'missing sidewalks', 'cpa', 'sidewalk condition', 'aggressive driving', 'driver awareness', 's riverside', '129', 'maple', 'cyclists breaking rules', 'cleveland', 'road surface', 'municipal place', 'missing crosswalks', 'bushes on sidewalk', 'grand', 'narrow roads', 'mt airy', 'shoprite', 'benedict', 'five corners', 'van wyck', 'dummy light', 'crossing guard', 'gottwald circle', 'n riverside', 'poor lighting', 'croton commons', 'truesdale', 'hmb trail', 'cet', 'on-street parking', 'old post n', 'olcott', 'old post s', 'morningside' ]\n",
    "\n",
    "#add the most popular suggestion tags to the dictionary of questions and their answer options\n",
    "multiple_answer_options['suggestion_tags'] = [ 'bike lanes', 'more sidewalks', 'enforce speed', 'maintain sidewalks', 'reduce speed', 'educate cyclists', 'more crosswalks', 'speed bumps', 'no bike lanes', 'maintain crosswalks', 'enforce crosswalks', 'sidewalk on mt airy s', 'reduce on-street parking', 'more traffic lights', 'better lighting', 'more stop signs', 'dedicated pedestrian walk signals', 'more signs', 'improve route 9 access', 'educate pedestrians', 'outlaw cycling', 'enforce trimming of bushes', 'speed cameras', 'parking on one side only', 'bike racks', 'traffic calming', 'speed indicator signs' ]\n"
   ]
  },
  {
   "cell_type": "markdown",
   "metadata": {},
   "source": [
    "## Response counts to each multiple select question"
   ]
  },
  {
   "cell_type": "code",
   "execution_count": 5,
   "metadata": {
    "scrolled": false
   },
   "outputs": [
    {
     "data": {
      "text/markdown": [
       "## schools:"
      ],
      "text/plain": [
       "<IPython.core.display.Markdown object>"
      ]
     },
     "metadata": {},
     "output_type": "display_data"
    },
    {
     "data": {
      "text/html": [
       "<div>\n",
       "<style scoped>\n",
       "    .dataframe tbody tr th:only-of-type {\n",
       "        vertical-align: middle;\n",
       "    }\n",
       "\n",
       "    .dataframe tbody tr th {\n",
       "        vertical-align: top;\n",
       "    }\n",
       "\n",
       "    .dataframe thead th {\n",
       "        text-align: right;\n",
       "    }\n",
       "</style>\n",
       "<table border=\"1\" class=\"dataframe\">\n",
       "  <thead>\n",
       "    <tr style=\"text-align: right;\">\n",
       "      <th></th>\n",
       "      <th>number</th>\n",
       "      <th>percent</th>\n",
       "    </tr>\n",
       "    <tr>\n",
       "      <th>response</th>\n",
       "      <th></th>\n",
       "      <th></th>\n",
       "    </tr>\n",
       "  </thead>\n",
       "  <tbody>\n",
       "    <tr>\n",
       "      <th>CET</th>\n",
       "      <td>104</td>\n",
       "      <td>40%</td>\n",
       "    </tr>\n",
       "    <tr>\n",
       "      <th>PVC</th>\n",
       "      <td>78</td>\n",
       "      <td>30%</td>\n",
       "    </tr>\n",
       "    <tr>\n",
       "      <th>CHHS</th>\n",
       "      <td>70</td>\n",
       "      <td>27%</td>\n",
       "    </tr>\n",
       "    <tr>\n",
       "      <th>Homeschooled</th>\n",
       "      <td>5</td>\n",
       "      <td>2%</td>\n",
       "    </tr>\n",
       "  </tbody>\n",
       "</table>\n",
       "</div>"
      ],
      "text/plain": [
       "              number percent\n",
       "response                    \n",
       "CET              104     40%\n",
       "PVC               78     30%\n",
       "CHHS              70     27%\n",
       "Homeschooled       5      2%"
      ]
     },
     "metadata": {},
     "output_type": "display_data"
    },
    {
     "data": {
      "image/png": "[encoded data removed]",
      "text/plain": [
       "<Figure size 360x360 with 1 Axes>"
      ]
     },
     "metadata": {
      "needs_background": "light"
     },
     "output_type": "display_data"
    },
    {
     "data": {
      "text/markdown": [
       "#### other responses:"
      ],
      "text/plain": [
       "<IPython.core.display.Markdown object>"
      ]
     },
     "metadata": {},
     "output_type": "display_data"
    },
    {
     "data": {
      "text/plain": [
       "Circle School                                     3\n",
       "St. Augustine                                     2\n",
       "Happy Hearts                                      2\n",
       "Happy Hearts on the Hudson                        1\n",
       "Circle                                            1\n",
       "Circle school                                     1\n",
       "Nursery. Must drive them                          1\n",
       "Happy hearts                                      1\n",
       "Briarcliff nursery school                         1\n",
       "Childrenspace                                     1\n",
       "The Harvey School                                 1\n",
       "Asbury - preschool (will attend CET next year)    1\n",
       "Happy Hearts Day Care                             1\n",
       "Manitou                                           1\n",
       "Circle School/Asbury Play & Learn                 1\n",
       "Hen Hud Schools                                   1\n",
       "College                                           1\n",
       "SUNY purchase                                     1\n",
       "Windward and Hackley                              1\n",
       "Masters                                           1\n",
       "Name: schools_other, dtype: int64"
      ]
     },
     "metadata": {},
     "output_type": "display_data"
    },
    {
     "data": {
      "text/markdown": [
       "## child_drive_reason:"
      ],
      "text/plain": [
       "<IPython.core.display.Markdown object>"
      ]
     },
     "metadata": {},
     "output_type": "display_data"
    },
    {
     "data": {
      "text/html": [
       "<div>\n",
       "<style scoped>\n",
       "    .dataframe tbody tr th:only-of-type {\n",
       "        vertical-align: middle;\n",
       "    }\n",
       "\n",
       "    .dataframe tbody tr th {\n",
       "        vertical-align: top;\n",
       "    }\n",
       "\n",
       "    .dataframe thead th {\n",
       "        text-align: right;\n",
       "    }\n",
       "</style>\n",
       "<table border=\"1\" class=\"dataframe\">\n",
       "  <thead>\n",
       "    <tr style=\"text-align: right;\">\n",
       "      <th></th>\n",
       "      <th>number</th>\n",
       "      <th>percent</th>\n",
       "    </tr>\n",
       "    <tr>\n",
       "      <th>response</th>\n",
       "      <th></th>\n",
       "      <th></th>\n",
       "    </tr>\n",
       "  </thead>\n",
       "  <tbody>\n",
       "    <tr>\n",
       "      <th>The bus schedule does not match our schedule</th>\n",
       "      <td>35</td>\n",
       "      <td>16%</td>\n",
       "    </tr>\n",
       "    <tr>\n",
       "      <th>Safety concerns with walking</th>\n",
       "      <td>24</td>\n",
       "      <td>11%</td>\n",
       "    </tr>\n",
       "    <tr>\n",
       "      <th>Safety concerns with bicycling</th>\n",
       "      <td>17</td>\n",
       "      <td>8%</td>\n",
       "    </tr>\n",
       "    <tr>\n",
       "      <th>Lack of available busing where we live</th>\n",
       "      <td>7</td>\n",
       "      <td>3%</td>\n",
       "    </tr>\n",
       "    <tr>\n",
       "      <th>Safety concerns with buses</th>\n",
       "      <td>5</td>\n",
       "      <td>2%</td>\n",
       "    </tr>\n",
       "    <tr>\n",
       "      <th>My child's health condition</th>\n",
       "      <td>3</td>\n",
       "      <td>1%</td>\n",
       "    </tr>\n",
       "  </tbody>\n",
       "</table>\n",
       "</div>"
      ],
      "text/plain": [
       "                                              number percent\n",
       "response                                                    \n",
       "The bus schedule does not match our schedule      35     16%\n",
       "Safety concerns with walking                      24     11%\n",
       "Safety concerns with bicycling                    17      8%\n",
       "Lack of available busing where we live             7      3%\n",
       "Safety concerns with buses                         5      2%\n",
       "My child's health condition                        3      1%"
      ]
     },
     "metadata": {},
     "output_type": "display_data"
    },
    {
     "data": {
      "image/png": "[encoded data removed]",
      "text/plain": [
       "<Figure size 360x360 with 1 Axes>"
      ]
     },
     "metadata": {
      "needs_background": "light"
     },
     "output_type": "display_data"
    },
    {
     "data": {
      "text/markdown": [
       "#### other responses:"
      ],
      "text/plain": [
       "<IPython.core.display.Markdown object>"
      ]
     },
     "metadata": {},
     "output_type": "display_data"
    },
    {
     "data": {
      "text/plain": [
       "Kids running late                                                                                                        2\n",
       "Bad weather                                                                                                              2\n",
       "Weather                                                                                                                  2\n",
       "Drive to nursery. Bus to CET                                                                                             1\n",
       "Employed near school                                                                                                     1\n",
       "Need to carry large stuff to school                                                                                      1\n",
       "Sometimes kids wake up too late for the bus                                                                              1\n",
       "Nursery school                                                                                                           1\n",
       "With limited time it’s easiest to drop off on the way to work and pick up on the way home and we are already driving.    1\n",
       "Bad weather for my PVC girls to walk in                                                                                  1\n",
       "Not an option for our school                                                                                             1\n",
       "scheduling                                                                                                               1\n",
       "Her pre-school is out of town                                                                                            1\n",
       "Too young to drive                                                                                                       1\n",
       "inclement weather or lateness                                                                                            1\n",
       "G Days and High school schedule.                                                                                         1\n",
       "Bus does not come down our street. Bus stop location is inconvenient.                                                    1\n",
       "kids too young                                                                                                           1\n",
       "Bus comes very early so they are on bus for a long time                                                                  1\n",
       "extracurricular activities at school                                                                                     1\n",
       "Name: child_drive_reason_other, dtype: int64"
      ]
     },
     "metadata": {},
     "output_type": "display_data"
    },
    {
     "data": {
      "text/markdown": [
       "## child_no_walk_reason:"
      ],
      "text/plain": [
       "<IPython.core.display.Markdown object>"
      ]
     },
     "metadata": {},
     "output_type": "display_data"
    },
    {
     "data": {
      "text/html": [
       "<div>\n",
       "<style scoped>\n",
       "    .dataframe tbody tr th:only-of-type {\n",
       "        vertical-align: middle;\n",
       "    }\n",
       "\n",
       "    .dataframe tbody tr th {\n",
       "        vertical-align: top;\n",
       "    }\n",
       "\n",
       "    .dataframe thead th {\n",
       "        text-align: right;\n",
       "    }\n",
       "</style>\n",
       "<table border=\"1\" class=\"dataframe\">\n",
       "  <thead>\n",
       "    <tr style=\"text-align: right;\">\n",
       "      <th></th>\n",
       "      <th>number</th>\n",
       "      <th>percent</th>\n",
       "    </tr>\n",
       "    <tr>\n",
       "      <th>response</th>\n",
       "      <th></th>\n",
       "      <th></th>\n",
       "    </tr>\n",
       "  </thead>\n",
       "  <tbody>\n",
       "    <tr>\n",
       "      <th>We don't have time to walk</th>\n",
       "      <td>38</td>\n",
       "      <td>14%</td>\n",
       "    </tr>\n",
       "    <tr>\n",
       "      <th>Lack of adequate sidewalks</th>\n",
       "      <td>37</td>\n",
       "      <td>14%</td>\n",
       "    </tr>\n",
       "    <tr>\n",
       "      <th>Fear of dangerous driving</th>\n",
       "      <td>37</td>\n",
       "      <td>14%</td>\n",
       "    </tr>\n",
       "    <tr>\n",
       "      <th>Lack of adequate crosswalks at busy intersections</th>\n",
       "      <td>22</td>\n",
       "      <td>8%</td>\n",
       "    </tr>\n",
       "    <tr>\n",
       "      <th>My child does not like to walk</th>\n",
       "      <td>11</td>\n",
       "      <td>4%</td>\n",
       "    </tr>\n",
       "    <tr>\n",
       "      <th>Lack of crossing guards at busy intersections</th>\n",
       "      <td>9</td>\n",
       "      <td>3%</td>\n",
       "    </tr>\n",
       "    <tr>\n",
       "      <th>My child's health condition</th>\n",
       "      <td>2</td>\n",
       "      <td>1%</td>\n",
       "    </tr>\n",
       "    <tr>\n",
       "      <th>Visually unappealing route</th>\n",
       "      <td>1</td>\n",
       "      <td>0%</td>\n",
       "    </tr>\n",
       "  </tbody>\n",
       "</table>\n",
       "</div>"
      ],
      "text/plain": [
       "                                                   number percent\n",
       "response                                                         \n",
       "We don't have time to walk                             38     14%\n",
       "Lack of adequate sidewalks                             37     14%\n",
       "Fear of dangerous driving                              37     14%\n",
       "Lack of adequate crosswalks at busy intersections      22      8%\n",
       "My child does not like to walk                         11      4%\n",
       "Lack of crossing guards at busy intersections           9      3%\n",
       "My child's health condition                             2      1%\n",
       "Visually unappealing route                              1      0%"
      ]
     },
     "metadata": {},
     "output_type": "display_data"
    },
    {
     "data": {
      "image/png": "[encoded data removed]",
      "text/plain": [
       "<Figure size 360x360 with 1 Axes>"
      ]
     },
     "metadata": {
      "needs_background": "light"
     },
     "output_type": "display_data"
    },
    {
     "data": {
      "text/markdown": [
       "#### other responses:"
      ],
      "text/plain": [
       "<IPython.core.display.Markdown object>"
      ]
     },
     "metadata": {},
     "output_type": "display_data"
    },
    {
     "data": {
      "text/plain": [
       "Too young                                                                                                                                                                                         5\n",
       "He is just entering the grade you can walk to school this year so we don't know if we will allow him to walk more or walk with him. He does enjoy biking to school with a parent occasionally.    1\n",
       "One walks and the other takes the bus                                                                                                                                                             1\n",
       "Walking to Town on Mt. Airy Road is a Death-Wish because it is too narrow and has no shoulders.                                                                                                   1\n",
       "My child is too young. Having said that                                                                                                                                                           1\n",
       "On the far side                                                                                                                                                                                   1\n",
       "When my child moves from CET to PVC                                                                                                                                                               1\n",
       "too young                                                                                                                                                                                         1\n",
       "My child doesn’t walk to school due to homeschooling                                                                                                                                              1\n",
       "not enough time to walk in the morning from the trails and its too steep of a hill to walk home.                                                                                                  1\n",
       "Too far away. Would take over an hour.                                                                                                                                                            1\n",
       "My child is too young to walk =D                                                                                                                                                                  1\n",
       "My child carpools with friends                                                                                                                                                                    1\n",
       "He drives to Yorktown.                                                                                                                                                                            1\n",
       "Again                                                                                                                                                                                             1\n",
       "Too young.                                                                                                                                                                                        1\n",
       "Dicey route                                                                                                                                                                                       1\n",
       "User to live in the village.  She walked a lot then.  Now too far off W Mt Airy.                                                                                                                  1\n",
       "Laziness                                                                                                                                                                                          1\n",
       "Does not walk.                                                                                                                                                                                    1\n",
       "Name: child_no_walk_reason_other, dtype: int64"
      ]
     },
     "metadata": {},
     "output_type": "display_data"
    },
    {
     "data": {
      "text/markdown": [
       "## child_no_bike_reason:"
      ],
      "text/plain": [
       "<IPython.core.display.Markdown object>"
      ]
     },
     "metadata": {},
     "output_type": "display_data"
    },
    {
     "data": {
      "text/html": [
       "<div>\n",
       "<style scoped>\n",
       "    .dataframe tbody tr th:only-of-type {\n",
       "        vertical-align: middle;\n",
       "    }\n",
       "\n",
       "    .dataframe tbody tr th {\n",
       "        vertical-align: top;\n",
       "    }\n",
       "\n",
       "    .dataframe thead th {\n",
       "        text-align: right;\n",
       "    }\n",
       "</style>\n",
       "<table border=\"1\" class=\"dataframe\">\n",
       "  <thead>\n",
       "    <tr style=\"text-align: right;\">\n",
       "      <th></th>\n",
       "      <th>number</th>\n",
       "      <th>percent</th>\n",
       "    </tr>\n",
       "    <tr>\n",
       "      <th>response</th>\n",
       "      <th></th>\n",
       "      <th></th>\n",
       "    </tr>\n",
       "  </thead>\n",
       "  <tbody>\n",
       "    <tr>\n",
       "      <th>Fear of dangerous driving</th>\n",
       "      <td>66</td>\n",
       "      <td>24%</td>\n",
       "    </tr>\n",
       "    <tr>\n",
       "      <th>Lack of adequate bike lanes</th>\n",
       "      <td>46</td>\n",
       "      <td>16%</td>\n",
       "    </tr>\n",
       "    <tr>\n",
       "      <th>Hills</th>\n",
       "      <td>29</td>\n",
       "      <td>10%</td>\n",
       "    </tr>\n",
       "    <tr>\n",
       "      <th>We live too far to bicycle</th>\n",
       "      <td>27</td>\n",
       "      <td>10%</td>\n",
       "    </tr>\n",
       "    <tr>\n",
       "      <th>My child does not like to bicycle</th>\n",
       "      <td>27</td>\n",
       "      <td>10%</td>\n",
       "    </tr>\n",
       "    <tr>\n",
       "      <th>My child's health condition</th>\n",
       "      <td>3</td>\n",
       "      <td>1%</td>\n",
       "    </tr>\n",
       "    <tr>\n",
       "      <th>Visually unappealing route</th>\n",
       "      <td>2</td>\n",
       "      <td>1%</td>\n",
       "    </tr>\n",
       "  </tbody>\n",
       "</table>\n",
       "</div>"
      ],
      "text/plain": [
       "                                   number percent\n",
       "response                                         \n",
       "Fear of dangerous driving              66     24%\n",
       "Lack of adequate bike lanes            46     16%\n",
       "Hills                                  29     10%\n",
       "We live too far to bicycle             27     10%\n",
       "My child does not like to bicycle      27     10%\n",
       "My child's health condition             3      1%\n",
       "Visually unappealing route              2      1%"
      ]
     },
     "metadata": {},
     "output_type": "display_data"
    },
    {
     "data": {
      "image/png": "[encoded data removed]",
      "text/plain": [
       "<Figure size 360x360 with 1 Axes>"
      ]
     },
     "metadata": {
      "needs_background": "light"
     },
     "output_type": "display_data"
    },
    {
     "data": {
      "text/markdown": [
       "#### other responses:"
      ],
      "text/plain": [
       "<IPython.core.display.Markdown object>"
      ]
     },
     "metadata": {},
     "output_type": "display_data"
    },
    {
     "data": {
      "text/plain": [
       "Too young                                                                                                3\n",
       "First year we are considering it is this year for pvc                                                    1\n",
       "My child is too young to bicycle yet.                                                                    1\n",
       "No side walks. South Mt Airy people go 45+ miles and hour                                                1\n",
       "She biked or skootered a lot when we lived in the village.  Now too far and dangerous from W Mt Airy.    1\n",
       "We're overly-concerned parents :)                                                                        1\n",
       "My child is to young to bike                                                                             1\n",
       "It’s really hilly and better to walk!                                                                    1\n",
       "Easier to walk than bike                                                                                 1\n",
       "She still rides on the side walk                                                                         1\n",
       "Prefer bus/walking with friends                                                                          1\n",
       "too young                                                                                                1\n",
       "See above other                                                                                          1\n",
       "And arrive at school sweaty? This is not the 60’s or 70’s.                                               1\n",
       "Child chooses not to                                                                                     1\n",
       "She's just not biking yet.                                                                               1\n",
       "we live too far and our child has access to a bus                                                        1\n",
       "scheduling and safety                                                                                    1\n",
       "N/a                                                                                                      1\n",
       "Biking to Town on Mt. Airy Road is a Death-Wish because it is too narrow and has no shoulders.           1\n",
       "Name: child_no_bike_reason_other, dtype: int64"
      ]
     },
     "metadata": {},
     "output_type": "display_data"
    },
    {
     "data": {
      "text/markdown": [
       "## no_walk_reason:"
      ],
      "text/plain": [
       "<IPython.core.display.Markdown object>"
      ]
     },
     "metadata": {},
     "output_type": "display_data"
    },
    {
     "data": {
      "text/html": [
       "<div>\n",
       "<style scoped>\n",
       "    .dataframe tbody tr th:only-of-type {\n",
       "        vertical-align: middle;\n",
       "    }\n",
       "\n",
       "    .dataframe tbody tr th {\n",
       "        vertical-align: top;\n",
       "    }\n",
       "\n",
       "    .dataframe thead th {\n",
       "        text-align: right;\n",
       "    }\n",
       "</style>\n",
       "<table border=\"1\" class=\"dataframe\">\n",
       "  <thead>\n",
       "    <tr style=\"text-align: right;\">\n",
       "      <th></th>\n",
       "      <th>number</th>\n",
       "      <th>percent</th>\n",
       "    </tr>\n",
       "    <tr>\n",
       "      <th>response</th>\n",
       "      <th></th>\n",
       "      <th></th>\n",
       "    </tr>\n",
       "  </thead>\n",
       "  <tbody>\n",
       "    <tr>\n",
       "      <th>Lack of adequate sidewalks</th>\n",
       "      <td>113</td>\n",
       "      <td>16%</td>\n",
       "    </tr>\n",
       "    <tr>\n",
       "      <th>I don't have time to walk</th>\n",
       "      <td>87</td>\n",
       "      <td>13%</td>\n",
       "    </tr>\n",
       "    <tr>\n",
       "      <th>Fear of dangerous driving</th>\n",
       "      <td>56</td>\n",
       "      <td>8%</td>\n",
       "    </tr>\n",
       "    <tr>\n",
       "      <th>Lack of adequate crosswalks at intersections</th>\n",
       "      <td>46</td>\n",
       "      <td>7%</td>\n",
       "    </tr>\n",
       "    <tr>\n",
       "      <th>My health condition</th>\n",
       "      <td>27</td>\n",
       "      <td>4%</td>\n",
       "    </tr>\n",
       "    <tr>\n",
       "      <th>Visually unappealing</th>\n",
       "      <td>19</td>\n",
       "      <td>3%</td>\n",
       "    </tr>\n",
       "    <tr>\n",
       "      <th>I do not like to walk</th>\n",
       "      <td>9</td>\n",
       "      <td>1%</td>\n",
       "    </tr>\n",
       "    <tr>\n",
       "      <th>Lack of crossing guards at intersections</th>\n",
       "      <td>6</td>\n",
       "      <td>1%</td>\n",
       "    </tr>\n",
       "  </tbody>\n",
       "</table>\n",
       "</div>"
      ],
      "text/plain": [
       "                                              number percent\n",
       "response                                                    \n",
       "Lack of adequate sidewalks                       113     16%\n",
       "I don't have time to walk                         87     13%\n",
       "Fear of dangerous driving                         56      8%\n",
       "Lack of adequate crosswalks at intersections      46      7%\n",
       "My health condition                               27      4%\n",
       "Visually unappealing                              19      3%\n",
       "I do not like to walk                              9      1%\n",
       "Lack of crossing guards at intersections           6      1%"
      ]
     },
     "metadata": {},
     "output_type": "display_data"
    },
    {
     "data": {
      "image/png": "[encoded data removed]",
      "text/plain": [
       "<Figure size 360x360 with 1 Axes>"
      ]
     },
     "metadata": {
      "needs_background": "light"
     },
     "output_type": "display_data"
    },
    {
     "data": {
      "text/markdown": [
       "#### other responses:"
      ],
      "text/plain": [
       "<IPython.core.display.Markdown object>"
      ]
     },
     "metadata": {},
     "output_type": "display_data"
    },
    {
     "data": {
      "text/plain": [
       "Hills                                                                                                                   3\n",
       "Drivers not adhering to crosswalk regulations                                                                           1\n",
       "No- I’m just lazier than I’d like                                                                                       1\n",
       "I walk on the Croton Aquaduct                                                                                           1\n",
       "Ilillegal behaviour by drivers and other pedestrians                                                                    1\n",
       "I belong to a Club where I regularly exercise.                                                                          1\n",
       "I swim laps for exercise and garden.                                                                                    1\n",
       "The winter                                                                                                              1\n",
       "Other than for exercise                                                                                                 1\n",
       "usually for time and scheduling                                                                                         1\n",
       "I prefer to bike                                                                                                        1\n",
       "I prefer bicycling                                                                                                      1\n",
       "Riding a bike is faster and more enjoyable                                                                              1\n",
       "It used to be fun. Stop chat with people on porches. It’s now different and not in a good way. Some sidewalk issues.    1\n",
       "I am a lazy sot                                                                                                         1\n",
       "Steep roads from Mt. Airy to the village center                                                                         1\n",
       "We live near OPRN                                                                                                       1\n",
       "It's a 25 minute walk to town with hills and sidewalks alternate on different sides of the street                       1\n",
       "Broken sidewalks and bad lighting.                                                                                      1\n",
       "I bicycle mostly                                                                                                        1\n",
       "Name: no_walk_reason_other, dtype: int64"
      ]
     },
     "metadata": {},
     "output_type": "display_data"
    },
    {
     "data": {
      "text/markdown": [
       "## no_bike_reason:"
      ],
      "text/plain": [
       "<IPython.core.display.Markdown object>"
      ]
     },
     "metadata": {},
     "output_type": "display_data"
    },
    {
     "data": {
      "text/html": [
       "<div>\n",
       "<style scoped>\n",
       "    .dataframe tbody tr th:only-of-type {\n",
       "        vertical-align: middle;\n",
       "    }\n",
       "\n",
       "    .dataframe tbody tr th {\n",
       "        vertical-align: top;\n",
       "    }\n",
       "\n",
       "    .dataframe thead th {\n",
       "        text-align: right;\n",
       "    }\n",
       "</style>\n",
       "<table border=\"1\" class=\"dataframe\">\n",
       "  <thead>\n",
       "    <tr style=\"text-align: right;\">\n",
       "      <th></th>\n",
       "      <th>number</th>\n",
       "      <th>percent</th>\n",
       "    </tr>\n",
       "    <tr>\n",
       "      <th>response</th>\n",
       "      <th></th>\n",
       "      <th></th>\n",
       "    </tr>\n",
       "  </thead>\n",
       "  <tbody>\n",
       "    <tr>\n",
       "      <th>Fear of dangerous driving</th>\n",
       "      <td>126</td>\n",
       "      <td>21%</td>\n",
       "    </tr>\n",
       "    <tr>\n",
       "      <th>Lack of adequate bike lanes</th>\n",
       "      <td>124</td>\n",
       "      <td>21%</td>\n",
       "    </tr>\n",
       "    <tr>\n",
       "      <th>I do not like to bicycle</th>\n",
       "      <td>84</td>\n",
       "      <td>14%</td>\n",
       "    </tr>\n",
       "    <tr>\n",
       "      <th>I don't have time to bicycle</th>\n",
       "      <td>64</td>\n",
       "      <td>11%</td>\n",
       "    </tr>\n",
       "    <tr>\n",
       "      <th>My health condition</th>\n",
       "      <td>26</td>\n",
       "      <td>4%</td>\n",
       "    </tr>\n",
       "    <tr>\n",
       "      <th>I live too far to bicycle</th>\n",
       "      <td>20</td>\n",
       "      <td>3%</td>\n",
       "    </tr>\n",
       "    <tr>\n",
       "      <th>Visually unappealing</th>\n",
       "      <td>6</td>\n",
       "      <td>1%</td>\n",
       "    </tr>\n",
       "  </tbody>\n",
       "</table>\n",
       "</div>"
      ],
      "text/plain": [
       "                              number percent\n",
       "response                                    \n",
       "Fear of dangerous driving        126     21%\n",
       "Lack of adequate bike lanes      124     21%\n",
       "I do not like to bicycle          84     14%\n",
       "I don't have time to bicycle      64     11%\n",
       "My health condition               26      4%\n",
       "I live too far to bicycle         20      3%\n",
       "Visually unappealing               6      1%"
      ]
     },
     "metadata": {},
     "output_type": "display_data"
    },
    {
     "data": {
      "image/png": "[encoded data removed]",
      "text/plain": [
       "<Figure size 360x360 with 1 Axes>"
      ]
     },
     "metadata": {
      "needs_background": "light"
     },
     "output_type": "display_data"
    },
    {
     "data": {
      "text/markdown": [
       "#### other responses:"
      ],
      "text/plain": [
       "<IPython.core.display.Markdown object>"
      ]
     },
     "metadata": {},
     "output_type": "display_data"
    },
    {
     "data": {
      "text/plain": [
       "Hills                                                                                                                                      4\n",
       "Fear of dangerous drivers                                                                                                                  3\n",
       "I currently don’t own a bicycle                                                                                                            2\n",
       "Don’t know how                                                                                                                             2\n",
       "Never learned                                                                                                                              1\n",
       "Worried about train station security and safety riding in traffic                                                                          1\n",
       "Don't know how to ride a bike.                                                                                                             1\n",
       "Timing I am in a rush and I have a nice bike that could get stolen                                                                         1\n",
       "Too hilly                                                                                                                                  1\n",
       "I don’t own or ride a bicycle                                                                                                              1\n",
       "Not appropriate for my needs ie: shopping                                                                                                  1\n",
       "mt airy hills                                                                                                                              1\n",
       "I have ordered a shed - once arrived                                                                                                       1\n",
       "I’m frequently transporting a small child                                                                                                  1\n",
       "Croton is very hilly! It’s not easy riding.                                                                                                1\n",
       "I don't own a Bicycle                                                                                                                      1\n",
       "Will be getting a bike                                                                                                                     1\n",
       "I am a mountain biker.  If would be nice to have a quick loop to ride in town.  Maybe in the woods off of the Truesdale/Cleveland trail    1\n",
       "Children pick ups and drop offs                                                                                                            1\n",
       "Not in shape to start                                                                                                                      1\n",
       "Name: no_bike_reason_other, dtype: int64"
      ]
     },
     "metadata": {},
     "output_type": "display_data"
    },
    {
     "data": {
      "text/markdown": [
       "## drive_reason:"
      ],
      "text/plain": [
       "<IPython.core.display.Markdown object>"
      ]
     },
     "metadata": {},
     "output_type": "display_data"
    },
    {
     "data": {
      "text/html": [
       "<div>\n",
       "<style scoped>\n",
       "    .dataframe tbody tr th:only-of-type {\n",
       "        vertical-align: middle;\n",
       "    }\n",
       "\n",
       "    .dataframe tbody tr th {\n",
       "        vertical-align: top;\n",
       "    }\n",
       "\n",
       "    .dataframe thead th {\n",
       "        text-align: right;\n",
       "    }\n",
       "</style>\n",
       "<table border=\"1\" class=\"dataframe\">\n",
       "  <thead>\n",
       "    <tr style=\"text-align: right;\">\n",
       "      <th></th>\n",
       "      <th>number</th>\n",
       "      <th>percent</th>\n",
       "    </tr>\n",
       "    <tr>\n",
       "      <th>response</th>\n",
       "      <th></th>\n",
       "      <th></th>\n",
       "    </tr>\n",
       "  </thead>\n",
       "  <tbody>\n",
       "    <tr>\n",
       "      <th>I don't have time to walk or bicycle</th>\n",
       "      <td>134</td>\n",
       "      <td>25%</td>\n",
       "    </tr>\n",
       "    <tr>\n",
       "      <th>Safety concerns with bicycling</th>\n",
       "      <td>95</td>\n",
       "      <td>18%</td>\n",
       "    </tr>\n",
       "    <tr>\n",
       "      <th>Safety concerns with walking</th>\n",
       "      <td>60</td>\n",
       "      <td>11%</td>\n",
       "    </tr>\n",
       "    <tr>\n",
       "      <th>My own health condition</th>\n",
       "      <td>28</td>\n",
       "      <td>5%</td>\n",
       "    </tr>\n",
       "  </tbody>\n",
       "</table>\n",
       "</div>"
      ],
      "text/plain": [
       "                                      number percent\n",
       "response                                            \n",
       "I don't have time to walk or bicycle     134     25%\n",
       "Safety concerns with bicycling            95     18%\n",
       "Safety concerns with walking              60     11%\n",
       "My own health condition                   28      5%"
      ]
     },
     "metadata": {},
     "output_type": "display_data"
    },
    {
     "data": {
      "image/png": "[encoded data removed]",
      "text/plain": [
       "<Figure size 360x360 with 1 Axes>"
      ]
     },
     "metadata": {
      "needs_background": "light"
     },
     "output_type": "display_data"
    },
    {
     "data": {
      "text/markdown": [
       "#### other responses:"
      ],
      "text/plain": [
       "<IPython.core.display.Markdown object>"
      ]
     },
     "metadata": {},
     "output_type": "display_data"
    },
    {
     "data": {
      "text/plain": [
       "Hills                                                                                                                        6\n",
       "Time                                                                                                                         5\n",
       "time                                                                                                                         3\n",
       "Too far                                                                                                                      3\n",
       "Convenience                                                                                                                  3\n",
       "Distance from my airy                                                                                                        2\n",
       "Going somewhere too far to walk                                                                                              1\n",
       "I don't want to carry groceries home by walking 1.5 miles                                                                    1\n",
       "The weather                                                                                                                  1\n",
       "Distance and safety                                                                                                          1\n",
       "must transport heavy stuff                                                                                                   1\n",
       "Too far to carry groceries back                                                                                              1\n",
       "Picking up groceries or at night                                                                                             1\n",
       "Distance to the train station and from one location to another. Also I often need to transport children and/or groceries.    1\n",
       "I walk and drive                                                                                                             1\n",
       "i walk when it makes sense                                                                                                   1\n",
       "I drop my kids off at Happy Hearts and can't bike with 2 small kids.                                                         1\n",
       "Live off Mt. Airy where there are tight roads and no sidewalks                                                               1\n",
       "hills are a killer - I live off of Brook Street and Old Post (Terrace Place) and there are hills everywhere.                 1\n",
       "Distance                                                                                                                     1\n",
       "Name: drive_reason_other, dtype: int64"
      ]
     },
     "metadata": {},
     "output_type": "display_data"
    },
    {
     "data": {
      "text/markdown": [
       "## commuter_distance:"
      ],
      "text/plain": [
       "<IPython.core.display.Markdown object>"
      ]
     },
     "metadata": {},
     "output_type": "display_data"
    },
    {
     "data": {
      "text/html": [
       "<div>\n",
       "<style scoped>\n",
       "    .dataframe tbody tr th:only-of-type {\n",
       "        vertical-align: middle;\n",
       "    }\n",
       "\n",
       "    .dataframe tbody tr th {\n",
       "        vertical-align: top;\n",
       "    }\n",
       "\n",
       "    .dataframe thead th {\n",
       "        text-align: right;\n",
       "    }\n",
       "</style>\n",
       "<table border=\"1\" class=\"dataframe\">\n",
       "  <thead>\n",
       "    <tr style=\"text-align: right;\">\n",
       "      <th></th>\n",
       "      <th>number</th>\n",
       "      <th>percent</th>\n",
       "    </tr>\n",
       "    <tr>\n",
       "      <th>response</th>\n",
       "      <th></th>\n",
       "      <th></th>\n",
       "    </tr>\n",
       "  </thead>\n",
       "  <tbody>\n",
       "    <tr>\n",
       "      <th>To/from New York City</th>\n",
       "      <td>185</td>\n",
       "      <td>61%</td>\n",
       "    </tr>\n",
       "    <tr>\n",
       "      <th>Within Westchester</th>\n",
       "      <td>89</td>\n",
       "      <td>29%</td>\n",
       "    </tr>\n",
       "    <tr>\n",
       "      <th>Within Croton</th>\n",
       "      <td>29</td>\n",
       "      <td>10%</td>\n",
       "    </tr>\n",
       "  </tbody>\n",
       "</table>\n",
       "</div>"
      ],
      "text/plain": [
       "                       number percent\n",
       "response                             \n",
       "To/from New York City     185     61%\n",
       "Within Westchester         89     29%\n",
       "Within Croton              29     10%"
      ]
     },
     "metadata": {},
     "output_type": "display_data"
    },
    {
     "data": {
      "image/png": "[encoded data removed]",
      "text/plain": [
       "<Figure size 360x360 with 1 Axes>"
      ]
     },
     "metadata": {
      "needs_background": "light"
     },
     "output_type": "display_data"
    },
    {
     "data": {
      "text/markdown": [
       "#### other responses:"
      ],
      "text/plain": [
       "<IPython.core.display.Markdown object>"
      ]
     },
     "metadata": {},
     "output_type": "display_data"
    },
    {
     "data": {
      "text/plain": [
       "To/From New York City                 5\n",
       "Dutchess County                       2\n",
       "to northern NJ                        1\n",
       "West Point                            1\n",
       "Greenwich                             1\n",
       "35 minutes northwest                  1\n",
       "Bronx                                 1\n",
       "NJ                                    1\n",
       "Northern Westchester                  1\n",
       "Ct                                    1\n",
       "Across river                          1\n",
       "To NY city and with in Westchester    1\n",
       "To/from Old Greenwich                 1\n",
       "Drive New Jersey                      1\n",
       "Long Island                           1\n",
       "Varies widely                         1\n",
       "Orange county                         1\n",
       "Both nyc and westChester              1\n",
       "To/from Hoboken NJ                    1\n",
       "to Connecticut                        1\n",
       "Name: commuter_distance_other, dtype: int64"
      ]
     },
     "metadata": {},
     "output_type": "display_data"
    },
    {
     "data": {
      "text/markdown": [
       "## problem_tags:"
      ],
      "text/plain": [
       "<IPython.core.display.Markdown object>"
      ]
     },
     "metadata": {},
     "output_type": "display_data"
    },
    {
     "data": {
      "text/html": [
       "<div>\n",
       "<style scoped>\n",
       "    .dataframe tbody tr th:only-of-type {\n",
       "        vertical-align: middle;\n",
       "    }\n",
       "\n",
       "    .dataframe tbody tr th {\n",
       "        vertical-align: top;\n",
       "    }\n",
       "\n",
       "    .dataframe thead th {\n",
       "        text-align: right;\n",
       "    }\n",
       "</style>\n",
       "<table border=\"1\" class=\"dataframe\">\n",
       "  <thead>\n",
       "    <tr style=\"text-align: right;\">\n",
       "      <th></th>\n",
       "      <th>number</th>\n",
       "      <th>percent</th>\n",
       "    </tr>\n",
       "    <tr>\n",
       "      <th>response</th>\n",
       "      <th></th>\n",
       "      <th></th>\n",
       "    </tr>\n",
       "  </thead>\n",
       "  <tbody>\n",
       "    <tr>\n",
       "      <th>speeding</th>\n",
       "      <td>125</td>\n",
       "      <td>9%</td>\n",
       "    </tr>\n",
       "    <tr>\n",
       "      <th>missing sidewalks</th>\n",
       "      <td>122</td>\n",
       "      <td>9%</td>\n",
       "    </tr>\n",
       "    <tr>\n",
       "      <th>cpa</th>\n",
       "      <td>87</td>\n",
       "      <td>6%</td>\n",
       "    </tr>\n",
       "    <tr>\n",
       "      <th>sidewalk condition</th>\n",
       "      <td>83</td>\n",
       "      <td>6%</td>\n",
       "    </tr>\n",
       "    <tr>\n",
       "      <th>aggressive driving</th>\n",
       "      <td>75</td>\n",
       "      <td>6%</td>\n",
       "    </tr>\n",
       "    <tr>\n",
       "      <th>driver awareness</th>\n",
       "      <td>74</td>\n",
       "      <td>6%</td>\n",
       "    </tr>\n",
       "    <tr>\n",
       "      <th>s riverside</th>\n",
       "      <td>70</td>\n",
       "      <td>5%</td>\n",
       "    </tr>\n",
       "    <tr>\n",
       "      <th>129</th>\n",
       "      <td>52</td>\n",
       "      <td>4%</td>\n",
       "    </tr>\n",
       "    <tr>\n",
       "      <th>maple</th>\n",
       "      <td>48</td>\n",
       "      <td>4%</td>\n",
       "    </tr>\n",
       "    <tr>\n",
       "      <th>road surface</th>\n",
       "      <td>46</td>\n",
       "      <td>3%</td>\n",
       "    </tr>\n",
       "    <tr>\n",
       "      <th>cyclists breaking rules</th>\n",
       "      <td>46</td>\n",
       "      <td>3%</td>\n",
       "    </tr>\n",
       "    <tr>\n",
       "      <th>cleveland</th>\n",
       "      <td>44</td>\n",
       "      <td>3%</td>\n",
       "    </tr>\n",
       "    <tr>\n",
       "      <th>municipal place</th>\n",
       "      <td>39</td>\n",
       "      <td>3%</td>\n",
       "    </tr>\n",
       "    <tr>\n",
       "      <th>missing crosswalks</th>\n",
       "      <td>33</td>\n",
       "      <td>2%</td>\n",
       "    </tr>\n",
       "    <tr>\n",
       "      <th>bushes on sidewalk</th>\n",
       "      <td>29</td>\n",
       "      <td>2%</td>\n",
       "    </tr>\n",
       "    <tr>\n",
       "      <th>mt airy</th>\n",
       "      <td>26</td>\n",
       "      <td>2%</td>\n",
       "    </tr>\n",
       "    <tr>\n",
       "      <th>shoprite</th>\n",
       "      <td>26</td>\n",
       "      <td>2%</td>\n",
       "    </tr>\n",
       "    <tr>\n",
       "      <th>narrow roads</th>\n",
       "      <td>26</td>\n",
       "      <td>2%</td>\n",
       "    </tr>\n",
       "    <tr>\n",
       "      <th>grand</th>\n",
       "      <td>26</td>\n",
       "      <td>2%</td>\n",
       "    </tr>\n",
       "    <tr>\n",
       "      <th>benedict</th>\n",
       "      <td>24</td>\n",
       "      <td>2%</td>\n",
       "    </tr>\n",
       "    <tr>\n",
       "      <th>five corners</th>\n",
       "      <td>22</td>\n",
       "      <td>2%</td>\n",
       "    </tr>\n",
       "    <tr>\n",
       "      <th>van wyck</th>\n",
       "      <td>21</td>\n",
       "      <td>2%</td>\n",
       "    </tr>\n",
       "    <tr>\n",
       "      <th>dummy light</th>\n",
       "      <td>18</td>\n",
       "      <td>1%</td>\n",
       "    </tr>\n",
       "    <tr>\n",
       "      <th>poor lighting</th>\n",
       "      <td>17</td>\n",
       "      <td>1%</td>\n",
       "    </tr>\n",
       "    <tr>\n",
       "      <th>crossing guard</th>\n",
       "      <td>17</td>\n",
       "      <td>1%</td>\n",
       "    </tr>\n",
       "    <tr>\n",
       "      <th>n riverside</th>\n",
       "      <td>17</td>\n",
       "      <td>1%</td>\n",
       "    </tr>\n",
       "    <tr>\n",
       "      <th>gottwald circle</th>\n",
       "      <td>17</td>\n",
       "      <td>1%</td>\n",
       "    </tr>\n",
       "    <tr>\n",
       "      <th>croton commons</th>\n",
       "      <td>15</td>\n",
       "      <td>1%</td>\n",
       "    </tr>\n",
       "    <tr>\n",
       "      <th>truesdale</th>\n",
       "      <td>14</td>\n",
       "      <td>1%</td>\n",
       "    </tr>\n",
       "    <tr>\n",
       "      <th>hmb trail</th>\n",
       "      <td>13</td>\n",
       "      <td>1%</td>\n",
       "    </tr>\n",
       "    <tr>\n",
       "      <th>cet</th>\n",
       "      <td>13</td>\n",
       "      <td>1%</td>\n",
       "    </tr>\n",
       "    <tr>\n",
       "      <th>on-street parking</th>\n",
       "      <td>12</td>\n",
       "      <td>1%</td>\n",
       "    </tr>\n",
       "    <tr>\n",
       "      <th>olcott</th>\n",
       "      <td>12</td>\n",
       "      <td>1%</td>\n",
       "    </tr>\n",
       "    <tr>\n",
       "      <th>old post n</th>\n",
       "      <td>12</td>\n",
       "      <td>1%</td>\n",
       "    </tr>\n",
       "    <tr>\n",
       "      <th>old post s</th>\n",
       "      <td>11</td>\n",
       "      <td>1%</td>\n",
       "    </tr>\n",
       "    <tr>\n",
       "      <th>morningside</th>\n",
       "      <td>10</td>\n",
       "      <td>1%</td>\n",
       "    </tr>\n",
       "  </tbody>\n",
       "</table>\n",
       "</div>"
      ],
      "text/plain": [
       "                         number percent\n",
       "response                               \n",
       "speeding                    125      9%\n",
       "missing sidewalks           122      9%\n",
       "cpa                          87      6%\n",
       "sidewalk condition           83      6%\n",
       "aggressive driving           75      6%\n",
       "driver awareness             74      6%\n",
       "s riverside                  70      5%\n",
       "129                          52      4%\n",
       "maple                        48      4%\n",
       "road surface                 46      3%\n",
       "cyclists breaking rules      46      3%\n",
       "cleveland                    44      3%\n",
       "municipal place              39      3%\n",
       "missing crosswalks           33      2%\n",
       "bushes on sidewalk           29      2%\n",
       "mt airy                      26      2%\n",
       "shoprite                     26      2%\n",
       "narrow roads                 26      2%\n",
       "grand                        26      2%\n",
       "benedict                     24      2%\n",
       "five corners                 22      2%\n",
       "van wyck                     21      2%\n",
       "dummy light                  18      1%\n",
       "poor lighting                17      1%\n",
       "crossing guard               17      1%\n",
       "n riverside                  17      1%\n",
       "gottwald circle              17      1%\n",
       "croton commons               15      1%\n",
       "truesdale                    14      1%\n",
       "hmb trail                    13      1%\n",
       "cet                          13      1%\n",
       "on-street parking            12      1%\n",
       "olcott                       12      1%\n",
       "old post n                   12      1%\n",
       "old post s                   11      1%\n",
       "morningside                  10      1%"
      ]
     },
     "metadata": {},
     "output_type": "display_data"
    },
    {
     "data": {
      "image/png": "[encoded data removed]",
      "text/plain": [
       "<Figure size 360x360 with 1 Axes>"
      ]
     },
     "metadata": {
      "needs_background": "light"
     },
     "output_type": "display_data"
    },
    {
     "data": {
      "text/markdown": [
       "#### other responses:"
      ],
      "text/plain": [
       "<IPython.core.display.Markdown object>"
      ]
     },
     "metadata": {},
     "output_type": "display_data"
    },
    {
     "data": {
      "text/plain": [
       "crosswalk condition           6\n",
       "radnor                        6\n",
       "bungalow                      6\n",
       "albany post road              5\n",
       "upper village                 5\n",
       "pvc                           4\n",
       "side-by-side cyclists         4\n",
       "pedestrians in roads          4\n",
       "library                       4\n",
       "nordica                       4\n",
       "station lot                   4\n",
       "parking on sidewalk           4\n",
       "gerstein                      3\n",
       "illegal parking               3\n",
       "narrow streets                3\n",
       "cyclists at croton landing    3\n",
       "dpw                           3\n",
       "wells                         2\n",
       "jacoby                        2\n",
       "cvs                           2\n",
       "Name: problem_tags_other, dtype: int64"
      ]
     },
     "metadata": {},
     "output_type": "display_data"
    },
    {
     "data": {
      "text/markdown": [
       "## suggestion_tags:"
      ],
      "text/plain": [
       "<IPython.core.display.Markdown object>"
      ]
     },
     "metadata": {},
     "output_type": "display_data"
    },
    {
     "data": {
      "text/html": [
       "<div>\n",
       "<style scoped>\n",
       "    .dataframe tbody tr th:only-of-type {\n",
       "        vertical-align: middle;\n",
       "    }\n",
       "\n",
       "    .dataframe tbody tr th {\n",
       "        vertical-align: top;\n",
       "    }\n",
       "\n",
       "    .dataframe thead th {\n",
       "        text-align: right;\n",
       "    }\n",
       "</style>\n",
       "<table border=\"1\" class=\"dataframe\">\n",
       "  <thead>\n",
       "    <tr style=\"text-align: right;\">\n",
       "      <th></th>\n",
       "      <th>number</th>\n",
       "      <th>percent</th>\n",
       "    </tr>\n",
       "    <tr>\n",
       "      <th>response</th>\n",
       "      <th></th>\n",
       "      <th></th>\n",
       "    </tr>\n",
       "  </thead>\n",
       "  <tbody>\n",
       "    <tr>\n",
       "      <th>bike lanes</th>\n",
       "      <td>104</td>\n",
       "      <td>15%</td>\n",
       "    </tr>\n",
       "    <tr>\n",
       "      <th>more sidewalks</th>\n",
       "      <td>98</td>\n",
       "      <td>15%</td>\n",
       "    </tr>\n",
       "    <tr>\n",
       "      <th>enforce speed</th>\n",
       "      <td>66</td>\n",
       "      <td>10%</td>\n",
       "    </tr>\n",
       "    <tr>\n",
       "      <th>maintain sidewalks</th>\n",
       "      <td>64</td>\n",
       "      <td>9%</td>\n",
       "    </tr>\n",
       "    <tr>\n",
       "      <th>reduce speed</th>\n",
       "      <td>46</td>\n",
       "      <td>7%</td>\n",
       "    </tr>\n",
       "    <tr>\n",
       "      <th>educate cyclists</th>\n",
       "      <td>39</td>\n",
       "      <td>6%</td>\n",
       "    </tr>\n",
       "    <tr>\n",
       "      <th>more crosswalks</th>\n",
       "      <td>38</td>\n",
       "      <td>6%</td>\n",
       "    </tr>\n",
       "    <tr>\n",
       "      <th>speed bumps</th>\n",
       "      <td>24</td>\n",
       "      <td>4%</td>\n",
       "    </tr>\n",
       "    <tr>\n",
       "      <th>no bike lanes</th>\n",
       "      <td>17</td>\n",
       "      <td>3%</td>\n",
       "    </tr>\n",
       "    <tr>\n",
       "      <th>maintain crosswalks</th>\n",
       "      <td>16</td>\n",
       "      <td>2%</td>\n",
       "    </tr>\n",
       "    <tr>\n",
       "      <th>enforce crosswalks</th>\n",
       "      <td>14</td>\n",
       "      <td>2%</td>\n",
       "    </tr>\n",
       "    <tr>\n",
       "      <th>sidewalk on mt airy s</th>\n",
       "      <td>13</td>\n",
       "      <td>2%</td>\n",
       "    </tr>\n",
       "    <tr>\n",
       "      <th>reduce on-street parking</th>\n",
       "      <td>13</td>\n",
       "      <td>2%</td>\n",
       "    </tr>\n",
       "    <tr>\n",
       "      <th>better lighting</th>\n",
       "      <td>12</td>\n",
       "      <td>2%</td>\n",
       "    </tr>\n",
       "    <tr>\n",
       "      <th>more stop signs</th>\n",
       "      <td>12</td>\n",
       "      <td>2%</td>\n",
       "    </tr>\n",
       "    <tr>\n",
       "      <th>more traffic lights</th>\n",
       "      <td>12</td>\n",
       "      <td>2%</td>\n",
       "    </tr>\n",
       "    <tr>\n",
       "      <th>dedicated pedestrian walk signals</th>\n",
       "      <td>11</td>\n",
       "      <td>2%</td>\n",
       "    </tr>\n",
       "    <tr>\n",
       "      <th>more signs</th>\n",
       "      <td>10</td>\n",
       "      <td>1%</td>\n",
       "    </tr>\n",
       "    <tr>\n",
       "      <th>improve route 9 access</th>\n",
       "      <td>10</td>\n",
       "      <td>1%</td>\n",
       "    </tr>\n",
       "    <tr>\n",
       "      <th>educate pedestrians</th>\n",
       "      <td>9</td>\n",
       "      <td>1%</td>\n",
       "    </tr>\n",
       "    <tr>\n",
       "      <th>enforce trimming of bushes</th>\n",
       "      <td>8</td>\n",
       "      <td>1%</td>\n",
       "    </tr>\n",
       "    <tr>\n",
       "      <th>outlaw cycling</th>\n",
       "      <td>8</td>\n",
       "      <td>1%</td>\n",
       "    </tr>\n",
       "    <tr>\n",
       "      <th>parking on one side only</th>\n",
       "      <td>7</td>\n",
       "      <td>1%</td>\n",
       "    </tr>\n",
       "    <tr>\n",
       "      <th>speed cameras</th>\n",
       "      <td>7</td>\n",
       "      <td>1%</td>\n",
       "    </tr>\n",
       "    <tr>\n",
       "      <th>bike racks</th>\n",
       "      <td>6</td>\n",
       "      <td>1%</td>\n",
       "    </tr>\n",
       "    <tr>\n",
       "      <th>speed indicator signs</th>\n",
       "      <td>5</td>\n",
       "      <td>1%</td>\n",
       "    </tr>\n",
       "    <tr>\n",
       "      <th>traffic calming</th>\n",
       "      <td>5</td>\n",
       "      <td>1%</td>\n",
       "    </tr>\n",
       "  </tbody>\n",
       "</table>\n",
       "</div>"
      ],
      "text/plain": [
       "                                   number percent\n",
       "response                                         \n",
       "bike lanes                            104     15%\n",
       "more sidewalks                         98     15%\n",
       "enforce speed                          66     10%\n",
       "maintain sidewalks                     64      9%\n",
       "reduce speed                           46      7%\n",
       "educate cyclists                       39      6%\n",
       "more crosswalks                        38      6%\n",
       "speed bumps                            24      4%\n",
       "no bike lanes                          17      3%\n",
       "maintain crosswalks                    16      2%\n",
       "enforce crosswalks                     14      2%\n",
       "sidewalk on mt airy s                  13      2%\n",
       "reduce on-street parking               13      2%\n",
       "better lighting                        12      2%\n",
       "more stop signs                        12      2%\n",
       "more traffic lights                    12      2%\n",
       "dedicated pedestrian walk signals      11      2%\n",
       "more signs                             10      1%\n",
       "improve route 9 access                 10      1%\n",
       "educate pedestrians                     9      1%\n",
       "enforce trimming of bushes              8      1%\n",
       "outlaw cycling                          8      1%\n",
       "parking on one side only                7      1%\n",
       "speed cameras                           7      1%\n",
       "bike racks                              6      1%\n",
       "speed indicator signs                   5      1%\n",
       "traffic calming                         5      1%"
      ]
     },
     "metadata": {},
     "output_type": "display_data"
    },
    {
     "data": {
      "image/png": "[encoded data removed]",
      "text/plain": [
       "<Figure size 360x360 with 1 Axes>"
      ]
     },
     "metadata": {
      "needs_background": "light"
     },
     "output_type": "display_data"
    },
    {
     "data": {
      "text/markdown": [
       "#### other responses:"
      ],
      "text/plain": [
       "<IPython.core.display.Markdown object>"
      ]
     },
     "metadata": {},
     "output_type": "display_data"
    },
    {
     "data": {
      "text/plain": [
       "lower speed limit                                      4\n",
       "no parking next to corners                             3\n",
       "lower speed limits                                     3\n",
       "dedicated bicycle trails                               3\n",
       "sharrows                                               3\n",
       "clearer signs                                          3\n",
       "stop signs on lexington near sunset park               2\n",
       "raise speed limits                                     2\n",
       "traffic light on cpa                                   2\n",
       "reduce num cars                                        2\n",
       "lower taxes                                            2\n",
       "outlaw walking in road                                 2\n",
       "stop signs on benedict                                 2\n",
       "require cyclists wear reflective apparel and lights    2\n",
       "more parking                                           2\n",
       "reopen hmb river trail                                 2\n",
       "wider roads                                            2\n",
       "5 way stop on mt airy s                                2\n",
       "better lights                                          2\n",
       "make village responsible for snow removal              2\n",
       "Name: suggestion_tags_other, dtype: int64"
      ]
     },
     "metadata": {},
     "output_type": "display_data"
    }
   ],
   "source": [
    "# loop through each question\n",
    "for question in multiple_answer_options.keys():    \n",
    "    display(Markdown('## {}:'.format(question)))\n",
    "\n",
    "    # calculate both absolute numbers and percentages for each answer option\n",
    "    df_abs = df.filter(regex=(\"^{}_.*\".format(question))).sum().sort_values(ascending=False).to_frame()\n",
    "    df_per = df_abs.apply(lambda x: 100 * x / x.sum()).round(0).astype(int).sort_values(by=0,ascending=False).astype(str) + '%'\n",
    "    \n",
    "    # merge both absolute numbers and percentages together into one DataFrame\n",
    "    df_both = pd.merge(df_abs, df_per, right_index=True, left_index=True)\n",
    "\n",
    "    # prettify the row indices\n",
    "    df_both = df_both.reset_index()\n",
    "    df_both['index'] = df_both['index'].str.replace(\"{}_\".format(question), '')\n",
    "    df_both = df_both.rename(columns={'0_x': 'number', '0_y': 'percent', 'index': 'response'})\n",
    "    df_both.set_index('response', inplace=True)\n",
    "    \n",
    "    # remove some useless data\n",
    "    useless_responses = [\n",
    "        'No - we do not drive or prefer not to drive',\n",
    "        'Our own personal preference',\n",
    "        'No - they walk a lot',\n",
    "        'No - I walk a lot',\n",
    "        'I live too far to walk',\n",
    "        'My child is too young to bicycle',\n",
    "        'My own personal preference',\n",
    "        'No - I bicycle a lot',\n",
    "        'No - they bicycle a lot',\n",
    "        'No - I do not drive or prefer not to drive',\n",
    "        'We live too far to walk']\n",
    "    for response in useless_responses:\n",
    "        try:\n",
    "            df_both = df_both.drop(response)\n",
    "        except:\n",
    "            pass\n",
    "    \n",
    "    # show the data\n",
    "    display(df_both)\n",
    "\n",
    "    # remove percent signs next to the data\n",
    "    data = df_both\n",
    "    for col in data:\n",
    "        # remove percent sign, if present so we can do math on it\n",
    "        try:\n",
    "            data[col] = data[col].str.replace('%', '').astype(float).round(0).astype(int) # get rid of percent signs\n",
    "        except:\n",
    "            pass\n",
    "\n",
    "    # plot the data\n",
    "    sns.set_palette(\"husl\") #deep, muted, pastel, bright, dark, or colorblind\n",
    "    data = data['percent'].reset_index()\n",
    "    data.columns = [question.replace('_', ' '), 'percent of respondents']\n",
    "    g = sns.catplot(x=question.replace('_', ' '), y=\"percent of respondents\", kind=\"bar\", data=data);\n",
    "    g.set_xticklabels(rotation=90)\n",
    "    plt.show()\n",
    "    \n",
    "    # show a few 'other' answers\n",
    "    display(Markdown('#### other responses:'))\n",
    "    s_others = df['{}_other'.format(question)]\n",
    "    display(s_others.value_counts()[:20])\n"
   ]
  },
  {
   "cell_type": "code",
   "execution_count": null,
   "metadata": {},
   "outputs": [],
   "source": []
  }
 ],
 "metadata": {
  "kernelspec": {
   "display_name": "Python 3",
   "language": "python",
   "name": "python3"
  },
  "language_info": {
   "codemirror_mode": {
    "name": "ipython",
    "version": 3
   },
   "file_extension": ".py",
   "mimetype": "text/x-python",
   "name": "python",
   "nbconvert_exporter": "python",
   "pygments_lexer": "ipython3",
   "version": "3.6.8"
  }
 },
 "nbformat": 4,
 "nbformat_minor": 2
}
